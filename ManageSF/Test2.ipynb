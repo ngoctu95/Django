{
 "cells": [
  {
   "cell_type": "code",
   "execution_count": 1,
   "metadata": {},
   "outputs": [],
   "source": [
    "import django\n",
    "import os\n",
    "from django.conf import settings\n",
    "os.environ.setdefault('DJANGO_SETTINGS_MODULE', 'ManageSF.settings')\n",
    "django.setup()\n",
    "os.environ[\"DJANGO_ALLOW_ASYNC_UNSAFE\"] = \"true\""
   ]
  },
  {
   "cell_type": "code",
   "execution_count": 2,
   "metadata": {},
   "outputs": [],
   "source": [
    "from SF.models import *\n",
    "c = Opportunity.objects.all()"
   ]
  },
  {
   "cell_type": "code",
   "execution_count": 3,
   "metadata": {},
   "outputs": [
    {
     "data": {
      "text/html": [
       "<div>\n",
       "<style scoped>\n",
       "    .dataframe tbody tr th:only-of-type {\n",
       "        vertical-align: middle;\n",
       "    }\n",
       "\n",
       "    .dataframe tbody tr th {\n",
       "        vertical-align: top;\n",
       "    }\n",
       "\n",
       "    .dataframe thead th {\n",
       "        text-align: right;\n",
       "    }\n",
       "</style>\n",
       "<table border=\"1\" class=\"dataframe\">\n",
       "  <thead>\n",
       "    <tr style=\"text-align: right;\">\n",
       "      <th></th>\n",
       "      <th>id</th>\n",
       "      <th>name</th>\n",
       "      <th>stage_name</th>\n",
       "      <th>close_date</th>\n",
       "    </tr>\n",
       "  </thead>\n",
       "  <tbody>\n",
       "    <tr>\n",
       "      <th>0</th>\n",
       "      <td>0065j00001N7mifAAB</td>\n",
       "      <td>Test Opp 2</td>\n",
       "      <td>Id. Decision Makers</td>\n",
       "      <td>2023-12-31</td>\n",
       "    </tr>\n",
       "    <tr>\n",
       "      <th>1</th>\n",
       "      <td>0065j00001jejajAAA</td>\n",
       "      <td>Test API Opp</td>\n",
       "      <td>Prospecting</td>\n",
       "      <td>2025-01-01</td>\n",
       "    </tr>\n",
       "    <tr>\n",
       "      <th>2</th>\n",
       "      <td>0065j00001jejrXAAQ</td>\n",
       "      <td>TOM 3: Test Create Opp by Django</td>\n",
       "      <td>Close Lost</td>\n",
       "      <td>2025-04-18</td>\n",
       "    </tr>\n",
       "    <tr>\n",
       "      <th>3</th>\n",
       "      <td>0065j00001DITJyAAP</td>\n",
       "      <td>ABS</td>\n",
       "      <td>Closed Won</td>\n",
       "      <td>2022-12-31</td>\n",
       "    </tr>\n",
       "    <tr>\n",
       "      <th>4</th>\n",
       "      <td>0065j00001MeGKkAAN</td>\n",
       "      <td>United Oil Emergency Generators</td>\n",
       "      <td>Closed Won</td>\n",
       "      <td>2023-06-06</td>\n",
       "    </tr>\n",
       "  </tbody>\n",
       "</table>\n",
       "</div>"
      ],
      "text/plain": [
       "                   id                              name           stage_name  \\\n",
       "0  0065j00001N7mifAAB                        Test Opp 2  Id. Decision Makers   \n",
       "1  0065j00001jejajAAA                      Test API Opp          Prospecting   \n",
       "2  0065j00001jejrXAAQ  TOM 3: Test Create Opp by Django           Close Lost   \n",
       "3  0065j00001DITJyAAP                               ABS           Closed Won   \n",
       "4  0065j00001MeGKkAAN   United Oil Emergency Generators           Closed Won   \n",
       "\n",
       "   close_date  \n",
       "0  2023-12-31  \n",
       "1  2025-01-01  \n",
       "2  2025-04-18  \n",
       "3  2022-12-31  \n",
       "4  2023-06-06  "
      ]
     },
     "execution_count": 3,
     "metadata": {},
     "output_type": "execute_result"
    }
   ],
   "source": [
    "import pandas as pd\n",
    "df = pd.DataFrame(c.values())\n",
    "df.head()"
   ]
  }
 ],
 "metadata": {
  "kernelspec": {
   "display_name": "venv",
   "language": "python",
   "name": "python3"
  },
  "language_info": {
   "codemirror_mode": {
    "name": "ipython",
    "version": 3
   },
   "file_extension": ".py",
   "mimetype": "text/x-python",
   "name": "python",
   "nbconvert_exporter": "python",
   "pygments_lexer": "ipython3",
   "version": "3.10.9"
  }
 },
 "nbformat": 4,
 "nbformat_minor": 2
}
